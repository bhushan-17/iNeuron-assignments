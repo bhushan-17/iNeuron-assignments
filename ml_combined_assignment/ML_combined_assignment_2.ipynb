{
 "cells": [
  {
   "cell_type": "code",
   "execution_count": 1,
   "metadata": {},
   "outputs": [],
   "source": [
    "from bs4 import BeautifulSoup\n",
    "import urllib\n",
    "import nltk\n",
    "import requests\n",
    "import re"
   ]
  },
  {
   "cell_type": "code",
   "execution_count": 2,
   "metadata": {},
   "outputs": [],
   "source": [
    "response = urllib.request.urlopen('https://en.wikipedia.org/wiki/Avengers:_Endgame')\n",
    "html = response.read()\n",
    "raw = BeautifulSoup(html,\"html5lib\").get_text()"
   ]
  },
  {
   "cell_type": "code",
   "execution_count": 3,
   "metadata": {},
   "outputs": [
    {
     "name": "stderr",
     "output_type": "stream",
     "text": [
      "[nltk_data] Downloading package punkt to C:\\Users\\BRIJ\n",
      "[nltk_data]     BHUSHAN\\AppData\\Roaming\\nltk_data...\n",
      "[nltk_data]   Unzipping tokenizers\\punkt.zip.\n"
     ]
    }
   ],
   "source": [
    "\n",
    "nltk.download('punkt')\n",
    "words = nltk.word_tokenize(raw)"
   ]
  },
  {
   "cell_type": "code",
   "execution_count": 4,
   "metadata": {},
   "outputs": [
    {
     "name": "stdout",
     "output_type": "stream",
     "text": [
      "the; 1003\n",
      "''; 943\n",
      "``; 390\n",
      "on; 309\n",
      "and; 296\n",
      "in; 287\n",
      "from; 281\n",
      "of; 275\n",
      "to; 228\n",
      "original; 218\n",
      "archived; 216\n",
      "retrieved; 216\n",
      "avengers; 212\n",
      "april; 208\n",
      "endgame; 186\n",
      "'s; 175\n",
      "film; 164\n",
      "as; 139\n",
      "may; 134\n",
      "for; 113\n",
      "with; 103\n",
      "marvel; 98\n",
      "'avengers; 89\n",
      "was; 86\n",
      "that; 83\n",
      "war; 81\n",
      "million; 78\n",
      "infinity; 77\n",
      "it; 72\n",
      "films; 71\n"
     ]
    }
   ],
   "source": [
    "words = [word for word in words if len(word) > 1]\n",
    "\n",
    "# Removing any numbers present in our text\n",
    "\n",
    "words = [word for word in words if not word.isnumeric()]\n",
    "\n",
    "# Lowercase all words (default_stopwords are lowercase too)\n",
    "\n",
    "words = [word.lower() for word in words]\n",
    "\n",
    "# Calculating frequency distribution\n",
    "\n",
    "fdist = nltk.FreqDist(words)\n",
    "\n",
    "# Printing the top 30 words with their frequency\n",
    "\n",
    "for word, frequency in fdist.most_common(30):\n",
    "    print(u'{}; {}'.format(word, frequency))"
   ]
  },
  {
   "cell_type": "code",
   "execution_count": null,
   "metadata": {},
   "outputs": [],
   "source": []
  }
 ],
 "metadata": {
  "kernelspec": {
   "display_name": "Python 3",
   "language": "python",
   "name": "python3"
  },
  "language_info": {
   "codemirror_mode": {
    "name": "ipython",
    "version": 3
   },
   "file_extension": ".py",
   "mimetype": "text/x-python",
   "name": "python",
   "nbconvert_exporter": "python",
   "pygments_lexer": "ipython3",
   "version": "3.7.9"
  }
 },
 "nbformat": 4,
 "nbformat_minor": 4
}
